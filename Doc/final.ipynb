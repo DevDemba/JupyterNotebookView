{
 "cells": [
  {
   "cell_type": "markdown",
   "metadata": {},
   "source": [
    "# Projet : Manipulation des données avec Pandas"
   ]
  },
  {
   "cell_type": "markdown",
   "metadata": {},
   "source": [
    "Pandas est une librairie Python spécialisée dans l’analyse des données qui a beaucoup de succès. Dans ce projet pratique, nous nous intéresserons surtout aux fonctionnalités de manipulations de données qu’elle propose. Un objet de type \"DataFrame\" (tableau de données), permet de réaliser de nombreuses opérations de pré-traitements, de filtrage, de nettoyage, de construction de nouvelles variables à partir des existentes, etc.,... préalables à la modélisation statistique.\n",
    "\n",
    "La librairie est très largement documentée. Il faut prendre le temps de consulter le Help et de s'exercer simplement ! Deux liens du Help sont incontournables, celui relative aux DataFrame (http://pandas.pydata.org/pandas-docs/stable/generated/pandas.DataFrame.html#pandas.DataFrame), celui relative aux Series que nous travaillerons également dessus (vecteur de données : http://pandas.pydata.org/pandas-docs/stable/generated/pandas.Series.html#pandas.Series)."
   ]
  },
  {
   "cell_type": "markdown",
   "metadata": {},
   "source": [
    "# Librairie Pandas - Options et version\n",
    "\n",
    "Il faut charger la librairie et, éventuellement, la configurer selon vos attentes. Pensez à vérifier votre version, elle doit être (non seulement la même sur tous les postes mais aussi la plus récente)."
   ]
  },
  {
   "cell_type": "code",
   "execution_count": 2,
   "metadata": {},
   "outputs": [
    {
     "name": "stdout",
     "output_type": "stream",
     "text": [
      "Collecting package metadata (current_repodata.json): done\n",
      "Solving environment: | \n",
      "\n",
      "Updating pandas is constricted by \n",
      "\n",
      "anaconda -> requires pandas==1.0.5=py38h0573a6f_0\n",
      "\n",
      "If you are sure you want an update of your package either try `conda update --all` or install a specific version of the package you want using `conda install <pkg>=<version>`\n",
      "\n",
      "done\n",
      "\n",
      "# All requested packages already installed.\n",
      "\n"
     ]
    }
   ],
   "source": [
    "# 1è étape : il faut charger Pandas\n",
    "# R : \n",
    "import pandas as pd\n",
    "\n",
    "# Vérifiez sa version ? \n",
    "# R :\n",
    "pd.__version__\n",
    "# Quelle est la dernière version et MAJ la votre en ligne de commande (au cas où Pandas n'est pas la + récente) ? \n",
    "# R : 1.1.2\n",
    "!conda update pandas \n",
    "\n",
    "# Rappelez les commandes qui permettent d'installer, MAJ, utiliser 1version moins récente et désinstaller 1lib ?   \n",
    "# R :\n",
    "\n",
    "# Modifiez le nb de lignes à afficher dans les print à 10. L'idée est d'éviter que le projet se résume \n",
    "# à de multiples affichages de longs tableaux ! \n",
    "# R :\n",
    "pd.options.display.max_rows = 10\n",
    "\n",
    "# Modifiez le nb de colonnes à afficher dans les print à 10. L'idée est d'éviter que la console soit rapidement encombrée \n",
    "# par un grand nombre de col ! \n",
    "# R :\n",
    "pd.options.display.max_columns = 10\n",
    "# Malgré le fait que ns avons fixé 1petit nb de col à afficher (à 10), les résultats peuvent être tronqués ds la console !\n",
    "# En d'autres termes, l'idée est d'améliorer l'affichage ds la console en évitant un retour à la ligne (Spyder, Pyzo, nootebook,..).\n",
    "# Activez l'option nécessaire à ce besoin ? \n",
    "# R :  "
   ]
  },
  {
   "cell_type": "raw",
   "metadata": {},
   "source": [
    "Après avoir réussi ces dernieres manip, créez 1script (startup.py) avec ces diff commandes et indiquez son path à comme PYTHON_STARTUP.\n",
    "L'idée est qu'à chaque lancement de Python, vos différents imports et options soient activées automatiquement !"
   ]
  },
  {
   "cell_type": "markdown",
   "metadata": {
    "collapsed": true
   },
   "source": [
    "# Chargement, structure DataFrame et description des données"
   ]
  },
  {
   "cell_type": "raw",
   "metadata": {},
   "source": [
    "1DataFrame correspond à 1tableau (lignes x cols) que je noterai à partir de maintenant \"df\".\n",
    "Concernant notre fichier \"sante.txt\" :\n",
    "La 1è ligne correspond aux noms des vars. A partir de la 2è ligne, ns disposons des valeurs pr chaque enregistrement (individu). \n",
    "Le caractère tabulation \"\\t\" fait office de séparateur de cols.\n",
    "Ns allons vérifier tt ça ds 1 1er tps en lignes de commandes Linux et ds un 2sd temps sur Python."
   ]
  },
  {
   "cell_type": "raw",
   "metadata": {},
   "source": [
    "En ligne de commande Linux : \n",
    "\n",
    "1) Créez 1répertoire \"data\" (où vs stockerez d'1façon permanente ts les objets que ns travaillerons dessus).\n",
    "2) Télécharez à partir du google-drive-datartisan le fichier \"sante.txt\" (secteur de la sante).\n",
    "# R : \n",
    "mkdir data\n",
    "Dans le terminal linux (et non ds 1éditeur de texte), déterminez : \n",
    "3) la taille du fichier, le nombre de lignes et affichez les 5 1è (lignes). \n",
    "# L'idée est d'avoir un aperçu du fichier ET surtout de déterminer : \n",
    "# Le fait s'il tiens en mémoire (données massives ou non),\n",
    "# Le type de séparateur (tabulation, virgule, pipe,...),\n",
    "# La présence ou non des noms des vars. \n",
    "# Le tout pour préparer la commande Python de création de df (à partir de ce fichier) ! \n",
    "# R : \n"
   ]
  },
  {
   "cell_type": "code",
   "execution_count": 12,
   "metadata": {},
   "outputs": [],
   "source": [
    "# Refaites ces diff manip strictement à l'aide de commandes Python : création de rép \"data\", téléchargement du fichier,... ?\n",
    "# R : indice import os, open()\n",
    "import os \n",
    "# Revenez sur le script \"startup.py\" et y mettre les commandes qui vs permettent de : \n",
    "# Créer le rép \"data\" (s'il n'existe pas) ?\n",
    "# Se positinner dessus automatiquement (à chaque démarrage).\n",
    "# R :"
   ]
  },
  {
   "cell_type": "code",
   "execution_count": 68,
   "metadata": {},
   "outputs": [
    {
     "name": "stdout",
     "output_type": "stream",
     "text": [
      "<class 'pandas.core.frame.DataFrame'>\n"
     ]
    }
   ],
   "source": [
    "# Chargez le fichier en tant qu'objet DataFrame (nom = df_sante) \n",
    "# R : \n",
    "df_sante = pd.read_table(\"sante.txt\", sep= '\\t', header = 0)\n",
    "# Vérifiez que le type obtenu est bien un 'pandas.core.frame.DataFrame'\n",
    "# R : \n",
    "print(type(df_sante))"
   ]
  },
  {
   "cell_type": "raw",
   "metadata": {},
   "source": [
    "Le type DataFrame est bien reconnu. Voyons maintenant sa structure.\n",
    "Faire un print(df) où vs vérifiez à l'oeil nu, dans la console, ligne par ligne la structure du df n'a pas de sens (contexte Big Data) !\n",
    "Croyez moi, ça ne va pas vs faire avancer (inversement, au bon entendeur !). \n",
    "Ns préferons alors déterminer la dimension du df, afficher un bout des 1ères et dernières lignes (et comparer avec les résultats déjà obtenu avec le fichier \".txt\").  "
   ]
  },
  {
   "cell_type": "code",
   "execution_count": 7,
   "metadata": {},
   "outputs": [
    {
     "name": "stdout",
     "output_type": "stream",
     "text": [
      "(270, 11)\n"
     ]
    }
   ],
   "source": [
    "# Déterminez les dimensions : nb de lignes et nb de colonnes ? \n",
    "# R : \n",
    "print(df_sante.shape)\n",
    "# Vérifier que ce sont les bonnes dimensions avec le fichier \".txt\"\n",
    "# Rq : la ligne d'en-tête n'est pas comptabilisée dans le nombre de lignes ! "
   ]
  },
  {
   "cell_type": "code",
   "execution_count": 10,
   "metadata": {},
   "outputs": [
    {
     "name": "stdout",
     "output_type": "stream",
     "text": [
      "   age      sexe typedouleur sucre  tauxmax  ... depression  coeur col9 col10  \\\n",
      "0   70  masculin           D     A      109  ...         24    presence   NaN   \n",
      "1   67   feminin           C     A      160  ...         16     absence   NaN   \n",
      "2   57  masculin           B     A      141  ...          3    presence   NaN   \n",
      "3   64  masculin           D     A      105  ...          2     absence   NaN   \n",
      "4   74   feminin           B     A      121  ...          2     absence   NaN   \n",
      "\n",
      "   col11  col13  \n",
      "0    NaN    NaN  \n",
      "1    NaN    NaN  \n",
      "2    NaN    NaN  \n",
      "3    NaN    NaN  \n",
      "4    NaN    NaN  \n",
      "\n",
      "[5 rows x 11 columns]\n"
     ]
    }
   ],
   "source": [
    "# Affichez les premières lignes du jeu de données ? \n",
    "# R : \n",
    "print(df_sante.head())"
   ]
  },
  {
   "cell_type": "code",
   "execution_count": 11,
   "metadata": {},
   "outputs": [
    {
     "data": {
      "text/html": [
       "<div>\n",
       "<style scoped>\n",
       "    .dataframe tbody tr th:only-of-type {\n",
       "        vertical-align: middle;\n",
       "    }\n",
       "\n",
       "    .dataframe tbody tr th {\n",
       "        vertical-align: top;\n",
       "    }\n",
       "\n",
       "    .dataframe thead th {\n",
       "        text-align: right;\n",
       "    }\n",
       "</style>\n",
       "<table border=\"1\" class=\"dataframe\">\n",
       "  <thead>\n",
       "    <tr style=\"text-align: right;\">\n",
       "      <th></th>\n",
       "      <th>age</th>\n",
       "      <th>sexe</th>\n",
       "      <th>typedouleur</th>\n",
       "      <th>sucre</th>\n",
       "      <th>tauxmax</th>\n",
       "      <th>...</th>\n",
       "      <th>depression</th>\n",
       "      <th>coeur col9</th>\n",
       "      <th>col10</th>\n",
       "      <th>col11</th>\n",
       "      <th>col13</th>\n",
       "    </tr>\n",
       "  </thead>\n",
       "  <tbody>\n",
       "    <tr>\n",
       "      <th>265</th>\n",
       "      <td>52</td>\n",
       "      <td>masculin</td>\n",
       "      <td>C</td>\n",
       "      <td>B</td>\n",
       "      <td>162</td>\n",
       "      <td>...</td>\n",
       "      <td>5</td>\n",
       "      <td>absence</td>\n",
       "      <td>NaN</td>\n",
       "      <td>NaN</td>\n",
       "      <td>NaN</td>\n",
       "    </tr>\n",
       "    <tr>\n",
       "      <th>266</th>\n",
       "      <td>44</td>\n",
       "      <td>masculin</td>\n",
       "      <td>B</td>\n",
       "      <td>A</td>\n",
       "      <td>173</td>\n",
       "      <td>...</td>\n",
       "      <td>0</td>\n",
       "      <td>absence</td>\n",
       "      <td>NaN</td>\n",
       "      <td>NaN</td>\n",
       "      <td>NaN</td>\n",
       "    </tr>\n",
       "    <tr>\n",
       "      <th>267</th>\n",
       "      <td>56</td>\n",
       "      <td>feminin</td>\n",
       "      <td>B</td>\n",
       "      <td>A</td>\n",
       "      <td>153</td>\n",
       "      <td>...</td>\n",
       "      <td>13</td>\n",
       "      <td>absence</td>\n",
       "      <td>NaN</td>\n",
       "      <td>NaN</td>\n",
       "      <td>NaN</td>\n",
       "    </tr>\n",
       "    <tr>\n",
       "      <th>268</th>\n",
       "      <td>57</td>\n",
       "      <td>masculin</td>\n",
       "      <td>D</td>\n",
       "      <td>A</td>\n",
       "      <td>148</td>\n",
       "      <td>...</td>\n",
       "      <td>4</td>\n",
       "      <td>absence</td>\n",
       "      <td>NaN</td>\n",
       "      <td>NaN</td>\n",
       "      <td>NaN</td>\n",
       "    </tr>\n",
       "    <tr>\n",
       "      <th>269</th>\n",
       "      <td>67</td>\n",
       "      <td>masculin</td>\n",
       "      <td>D</td>\n",
       "      <td>A</td>\n",
       "      <td>108</td>\n",
       "      <td>...</td>\n",
       "      <td>15</td>\n",
       "      <td>presence</td>\n",
       "      <td>NaN</td>\n",
       "      <td>NaN</td>\n",
       "      <td>NaN</td>\n",
       "    </tr>\n",
       "  </tbody>\n",
       "</table>\n",
       "<p>5 rows × 11 columns</p>\n",
       "</div>"
      ],
      "text/plain": [
       "     age      sexe typedouleur sucre  tauxmax  ... depression  coeur col9  \\\n",
       "265   52  masculin           C     B      162  ...          5     absence   \n",
       "266   44  masculin           B     A      173  ...          0     absence   \n",
       "267   56   feminin           B     A      153  ...         13     absence   \n",
       "268   57  masculin           D     A      148  ...          4     absence   \n",
       "269   67  masculin           D     A      108  ...         15    presence   \n",
       "\n",
       "    col10  col11  col13  \n",
       "265   NaN    NaN    NaN  \n",
       "266   NaN    NaN    NaN  \n",
       "267   NaN    NaN    NaN  \n",
       "268   NaN    NaN    NaN  \n",
       "269   NaN    NaN    NaN  \n",
       "\n",
       "[5 rows x 11 columns]"
      ]
     },
     "execution_count": 11,
     "metadata": {},
     "output_type": "execute_result"
    }
   ],
   "source": [
    "# Affichez les dernières lignes du jeu de données ? \n",
    "# R : \n",
    "df_sante.tail()"
   ]
  },
  {
   "cell_type": "raw",
   "metadata": {},
   "source": [
    "Nous passons beaucoup de notre temps à charger des df et à afficher le head (tail) pour vérifier que tt est OK ! \n",
    "Il vaut mieux en faire de ça 1fonc 1fois pr tte que vs appelez au besoin ? "
   ]
  },
  {
   "cell_type": "code",
   "execution_count": 14,
   "metadata": {},
   "outputs": [
    {
     "name": "stdout",
     "output_type": "stream",
     "text": [
      "   age      sexe typedouleur sucre  tauxmax  ... depression  coeur col9 col10  \\\n",
      "0   70  masculin           D     A      109  ...         24    presence   NaN   \n",
      "1   67   feminin           C     A      160  ...         16     absence   NaN   \n",
      "2   57  masculin           B     A      141  ...          3    presence   NaN   \n",
      "3   64  masculin           D     A      105  ...          2     absence   NaN   \n",
      "4   74   feminin           B     A      121  ...          2     absence   NaN   \n",
      "\n",
      "   col11  col13  \n",
      "0    NaN    NaN  \n",
      "1    NaN    NaN  \n",
      "2    NaN    NaN  \n",
      "3    NaN    NaN  \n",
      "4    NaN    NaN  \n",
      "\n",
      "[5 rows x 11 columns]\n",
      "     age      sexe typedouleur sucre  tauxmax  ... depression  coeur col9  \\\n",
      "265   52  masculin           C     B      162  ...          5     absence   \n",
      "266   44  masculin           B     A      173  ...          0     absence   \n",
      "267   56   feminin           B     A      153  ...         13     absence   \n",
      "268   57  masculin           D     A      148  ...          4     absence   \n",
      "269   67  masculin           D     A      108  ...         15    presence   \n",
      "\n",
      "    col10  col11  col13  \n",
      "265   NaN    NaN    NaN  \n",
      "266   NaN    NaN    NaN  \n",
      "267   NaN    NaN    NaN  \n",
      "268   NaN    NaN    NaN  \n",
      "269   NaN    NaN    NaN  \n",
      "\n",
      "[5 rows x 11 columns]\n"
     ]
    }
   ],
   "source": [
    "# Ecrivez cette fonc où vs géréz les exceptions (contexte script en production) ? \n",
    "# R : \n",
    "def loadTxt(fichier):\n",
    "    if os.path.isfile(fichier):\n",
    "        df = pd.read_table(fichier)\n",
    "        print(df.head())\n",
    "        print(df.tail())\n",
    "    else:\n",
    "        print(\"erreur de chargemnt\")\n",
    "        \n",
    "loadTxt(\"sante.txt\")"
   ]
  },
  {
   "cell_type": "markdown",
   "metadata": {},
   "source": [
    "### Les colonnes ?"
   ]
  },
  {
   "cell_type": "code",
   "execution_count": 15,
   "metadata": {
    "scrolled": true
   },
   "outputs": [
    {
     "name": "stdout",
     "output_type": "stream",
     "text": [
      "Index(['age', 'sexe', 'typedouleur', 'sucre', 'tauxmax', 'angine',\n",
      "       'depression', 'coeur col9', 'col10', 'col11', 'col13'],\n",
      "      dtype='object')\n"
     ]
    }
   ],
   "source": [
    "# Lister les colonnes (les noms des vars) ? \n",
    "# R : \n",
    "print(df_sante.columns)"
   ]
  },
  {
   "cell_type": "code",
   "execution_count": 21,
   "metadata": {},
   "outputs": [
    {
     "name": "stdout",
     "output_type": "stream",
     "text": [
      "age\n",
      "sexe\n",
      "typedouleur\n",
      "sucre\n",
      "tauxmax\n",
      "angine\n",
      "depression\n",
      "coeur col9\n",
      "col10\n",
      "col11\n"
     ]
    }
   ],
   "source": [
    "# Supposons que ce dernier affichage ne vous conviens pas (à l'horizontal, surtout si vs avez 5000 cols) ?! \n",
    "# Mettez en place 1boucle \"for\" qui vous permez d'afficher le résultat (à la verticale) et de le contrôler (nb de col à afficher) ?\n",
    "# R : \n",
    "for i in range(len(df_sante.columns)):\n",
    "    if i < 10:\n",
    "        print(df_sante.columns[i])"
   ]
  },
  {
   "cell_type": "code",
   "execution_count": 23,
   "metadata": {},
   "outputs": [
    {
     "name": "stdout",
     "output_type": "stream",
     "text": [
      "age              int64\n",
      "sexe            object\n",
      "typedouleur     object\n",
      "sucre           object\n",
      "tauxmax          int64\n",
      "                ...   \n",
      "depression       int64\n",
      "coeur col9      object\n",
      "col10          float64\n",
      "col11          float64\n",
      "col13          float64\n",
      "Length: 11, dtype: object\n"
     ]
    }
   ],
   "source": [
    "# Quelle est le type de chaque colonne : int64, object,... ? \n",
    "# R : \n",
    "print(df_sante.dtypes)"
   ]
  },
  {
   "cell_type": "raw",
   "metadata": {},
   "source": [
    "Il y'a combien type ? Que veut dire le type \"object\" ? \n",
    "Question à revenir dessus plus tard (après avoir travaillé sur les Series), combien de type (en ligne de commande) ?   \n",
    "# R : type non défini (object)"
   ]
  },
  {
   "cell_type": "code",
   "execution_count": 24,
   "metadata": {},
   "outputs": [
    {
     "name": "stdout",
     "output_type": "stream",
     "text": [
      "<class 'pandas.core.frame.DataFrame'>\n",
      "RangeIndex: 270 entries, 0 to 269\n",
      "Data columns (total 11 columns):\n",
      " #   Column       Non-Null Count  Dtype  \n",
      "---  ------       --------------  -----  \n",
      " 0   age          270 non-null    int64  \n",
      " 1   sexe         270 non-null    object \n",
      " 2   typedouleur  270 non-null    object \n",
      " 3   sucre        270 non-null    object \n",
      " 4   tauxmax      270 non-null    int64  \n",
      " 5   angine       270 non-null    object \n",
      " 6   depression   270 non-null    int64  \n",
      " 7   coeur col9   270 non-null    object \n",
      " 8   col10        0 non-null      float64\n",
      " 9   col11        0 non-null      float64\n",
      " 10  col13        0 non-null      float64\n",
      "dtypes: float64(3), int64(3), object(5)\n",
      "memory usage: 23.3+ KB\n",
      "None\n"
     ]
    }
   ],
   "source": [
    "# Au lieu de taper ces 2 dernières commandes, \n",
    "# il existe une commande qui vous permet de retrouver ces 2 derniers résultats (à la fois) ?\n",
    "# Laquelle ?\n",
    "# R : \n",
    "print(df_sante.info())"
   ]
  },
  {
   "cell_type": "raw",
   "metadata": {},
   "source": [
    "Pandas a tendance d'abuser de la mémoire lors de chargement des df.\n",
    "Aussi, il est vivement recommandé de bien affecter les bons types à chaque variable ne serait-ce que pour éviter de faire des opérations douteuses, par exemple arithmétiques sur des vars de type \"object\".\n",
    "Ds notre cas, vérifiez que notre fichier ne comporte pas de nombres avec des chiffres après la virgule ?\n",
    "Malgré cela, Pandas a stocké les cols concernées en int64 au lieu de int8 (gaspillage) !"
   ]
  },
  {
   "cell_type": "code",
   "execution_count": 25,
   "metadata": {},
   "outputs": [
    {
     "data": {
      "text/html": [
       "<div>\n",
       "<style scoped>\n",
       "    .dataframe tbody tr th:only-of-type {\n",
       "        vertical-align: middle;\n",
       "    }\n",
       "\n",
       "    .dataframe tbody tr th {\n",
       "        vertical-align: top;\n",
       "    }\n",
       "\n",
       "    .dataframe thead th {\n",
       "        text-align: right;\n",
       "    }\n",
       "</style>\n",
       "<table border=\"1\" class=\"dataframe\">\n",
       "  <thead>\n",
       "    <tr style=\"text-align: right;\">\n",
       "      <th></th>\n",
       "      <th>age</th>\n",
       "      <th>sexe</th>\n",
       "      <th>typedouleur</th>\n",
       "      <th>sucre</th>\n",
       "      <th>tauxmax</th>\n",
       "      <th>...</th>\n",
       "      <th>depression</th>\n",
       "      <th>coeur col9</th>\n",
       "      <th>col10</th>\n",
       "      <th>col11</th>\n",
       "      <th>col13</th>\n",
       "    </tr>\n",
       "  </thead>\n",
       "  <tbody>\n",
       "    <tr>\n",
       "      <th>0</th>\n",
       "      <td>70</td>\n",
       "      <td>masculin</td>\n",
       "      <td>D</td>\n",
       "      <td>A</td>\n",
       "      <td>109</td>\n",
       "      <td>...</td>\n",
       "      <td>24</td>\n",
       "      <td>presence</td>\n",
       "      <td>NaN</td>\n",
       "      <td>NaN</td>\n",
       "      <td>NaN</td>\n",
       "    </tr>\n",
       "    <tr>\n",
       "      <th>1</th>\n",
       "      <td>67</td>\n",
       "      <td>feminin</td>\n",
       "      <td>C</td>\n",
       "      <td>A</td>\n",
       "      <td>-96</td>\n",
       "      <td>...</td>\n",
       "      <td>16</td>\n",
       "      <td>absence</td>\n",
       "      <td>NaN</td>\n",
       "      <td>NaN</td>\n",
       "      <td>NaN</td>\n",
       "    </tr>\n",
       "    <tr>\n",
       "      <th>2</th>\n",
       "      <td>57</td>\n",
       "      <td>masculin</td>\n",
       "      <td>B</td>\n",
       "      <td>A</td>\n",
       "      <td>-115</td>\n",
       "      <td>...</td>\n",
       "      <td>3</td>\n",
       "      <td>presence</td>\n",
       "      <td>NaN</td>\n",
       "      <td>NaN</td>\n",
       "      <td>NaN</td>\n",
       "    </tr>\n",
       "    <tr>\n",
       "      <th>3</th>\n",
       "      <td>64</td>\n",
       "      <td>masculin</td>\n",
       "      <td>D</td>\n",
       "      <td>A</td>\n",
       "      <td>105</td>\n",
       "      <td>...</td>\n",
       "      <td>2</td>\n",
       "      <td>absence</td>\n",
       "      <td>NaN</td>\n",
       "      <td>NaN</td>\n",
       "      <td>NaN</td>\n",
       "    </tr>\n",
       "    <tr>\n",
       "      <th>4</th>\n",
       "      <td>74</td>\n",
       "      <td>feminin</td>\n",
       "      <td>B</td>\n",
       "      <td>A</td>\n",
       "      <td>121</td>\n",
       "      <td>...</td>\n",
       "      <td>2</td>\n",
       "      <td>absence</td>\n",
       "      <td>NaN</td>\n",
       "      <td>NaN</td>\n",
       "      <td>NaN</td>\n",
       "    </tr>\n",
       "    <tr>\n",
       "      <th>...</th>\n",
       "      <td>...</td>\n",
       "      <td>...</td>\n",
       "      <td>...</td>\n",
       "      <td>...</td>\n",
       "      <td>...</td>\n",
       "      <td>...</td>\n",
       "      <td>...</td>\n",
       "      <td>...</td>\n",
       "      <td>...</td>\n",
       "      <td>...</td>\n",
       "      <td>...</td>\n",
       "    </tr>\n",
       "    <tr>\n",
       "      <th>265</th>\n",
       "      <td>52</td>\n",
       "      <td>masculin</td>\n",
       "      <td>C</td>\n",
       "      <td>B</td>\n",
       "      <td>-94</td>\n",
       "      <td>...</td>\n",
       "      <td>5</td>\n",
       "      <td>absence</td>\n",
       "      <td>NaN</td>\n",
       "      <td>NaN</td>\n",
       "      <td>NaN</td>\n",
       "    </tr>\n",
       "    <tr>\n",
       "      <th>266</th>\n",
       "      <td>44</td>\n",
       "      <td>masculin</td>\n",
       "      <td>B</td>\n",
       "      <td>A</td>\n",
       "      <td>-83</td>\n",
       "      <td>...</td>\n",
       "      <td>0</td>\n",
       "      <td>absence</td>\n",
       "      <td>NaN</td>\n",
       "      <td>NaN</td>\n",
       "      <td>NaN</td>\n",
       "    </tr>\n",
       "    <tr>\n",
       "      <th>267</th>\n",
       "      <td>56</td>\n",
       "      <td>feminin</td>\n",
       "      <td>B</td>\n",
       "      <td>A</td>\n",
       "      <td>-103</td>\n",
       "      <td>...</td>\n",
       "      <td>13</td>\n",
       "      <td>absence</td>\n",
       "      <td>NaN</td>\n",
       "      <td>NaN</td>\n",
       "      <td>NaN</td>\n",
       "    </tr>\n",
       "    <tr>\n",
       "      <th>268</th>\n",
       "      <td>57</td>\n",
       "      <td>masculin</td>\n",
       "      <td>D</td>\n",
       "      <td>A</td>\n",
       "      <td>-108</td>\n",
       "      <td>...</td>\n",
       "      <td>4</td>\n",
       "      <td>absence</td>\n",
       "      <td>NaN</td>\n",
       "      <td>NaN</td>\n",
       "      <td>NaN</td>\n",
       "    </tr>\n",
       "    <tr>\n",
       "      <th>269</th>\n",
       "      <td>67</td>\n",
       "      <td>masculin</td>\n",
       "      <td>D</td>\n",
       "      <td>A</td>\n",
       "      <td>108</td>\n",
       "      <td>...</td>\n",
       "      <td>15</td>\n",
       "      <td>presence</td>\n",
       "      <td>NaN</td>\n",
       "      <td>NaN</td>\n",
       "      <td>NaN</td>\n",
       "    </tr>\n",
       "  </tbody>\n",
       "</table>\n",
       "<p>270 rows × 11 columns</p>\n",
       "</div>"
      ],
      "text/plain": [
       "     age      sexe typedouleur sucre  tauxmax  ... depression  coeur col9  \\\n",
       "0     70  masculin           D     A      109  ...         24    presence   \n",
       "1     67   feminin           C     A      -96  ...         16     absence   \n",
       "2     57  masculin           B     A     -115  ...          3    presence   \n",
       "3     64  masculin           D     A      105  ...          2     absence   \n",
       "4     74   feminin           B     A      121  ...          2     absence   \n",
       "..   ...       ...         ...   ...      ...  ...        ...         ...   \n",
       "265   52  masculin           C     B      -94  ...          5     absence   \n",
       "266   44  masculin           B     A      -83  ...          0     absence   \n",
       "267   56   feminin           B     A     -103  ...         13     absence   \n",
       "268   57  masculin           D     A     -108  ...          4     absence   \n",
       "269   67  masculin           D     A      108  ...         15    presence   \n",
       "\n",
       "    col10  col11  col13  \n",
       "0     NaN    NaN    NaN  \n",
       "1     NaN    NaN    NaN  \n",
       "2     NaN    NaN    NaN  \n",
       "3     NaN    NaN    NaN  \n",
       "4     NaN    NaN    NaN  \n",
       "..    ...    ...    ...  \n",
       "265   NaN    NaN    NaN  \n",
       "266   NaN    NaN    NaN  \n",
       "267   NaN    NaN    NaN  \n",
       "268   NaN    NaN    NaN  \n",
       "269   NaN    NaN    NaN  \n",
       "\n",
       "[270 rows x 11 columns]"
      ]
     },
     "execution_count": 25,
     "metadata": {},
     "output_type": "execute_result"
    }
   ],
   "source": [
    "# Par souci d'optimisation, mettez les cols qui sont en int64 en int8 ?\n",
    "# R : \n",
    "df_sante.astype({'age': 'int8', 'tauxmax' : 'int8', 'depression' : 'int8'})"
   ]
  },
  {
   "cell_type": "code",
   "execution_count": null,
   "metadata": {},
   "outputs": [],
   "source": [
    "Q à traiter plus tard : Comment faire la même manip (sans relire le fichier) ? "
   ]
  },
  {
   "cell_type": "raw",
   "metadata": {},
   "source": [
    "Supposons que ns avons à travailler sur un fichier avec des nombres avec des chiffres après la virgule (ou point pr spécifier un décimal (US Vs. EU)\n",
    "Trouvez l'option ds pd.read_table() qui permet de le spécifier ? \n",
    "# R : decimal=\",\""
   ]
  },
  {
   "cell_type": "markdown",
   "metadata": {},
   "source": [
    "### Description des données"
   ]
  },
  {
   "cell_type": "code",
   "execution_count": 26,
   "metadata": {},
   "outputs": [
    {
     "name": "stdout",
     "output_type": "stream",
     "text": [
      "               age      sexe typedouleur sucre     tauxmax  ... depression  \\\n",
      "count   270.000000       270         270   270  270.000000  ...      270.0   \n",
      "unique         NaN         2           4     2         NaN  ...        NaN   \n",
      "top            NaN  masculin           D     A         NaN  ...        NaN   \n",
      "freq           NaN       183         129   230         NaN  ...        NaN   \n",
      "mean     54.433333       NaN         NaN   NaN  149.677778  ...       10.5   \n",
      "...            ...       ...         ...   ...         ...  ...        ...   \n",
      "min      29.000000       NaN         NaN   NaN   71.000000  ...        0.0   \n",
      "25%      48.000000       NaN         NaN   NaN  133.000000  ...        0.0   \n",
      "50%      55.000000       NaN         NaN   NaN  153.500000  ...        8.0   \n",
      "75%      61.000000       NaN         NaN   NaN  166.000000  ...       16.0   \n",
      "max      77.000000       NaN         NaN   NaN  202.000000  ...       62.0   \n",
      "\n",
      "        coeur col9 col10  col11  col13  \n",
      "count          270   0.0    0.0    0.0  \n",
      "unique           2   NaN    NaN    NaN  \n",
      "top        absence   NaN    NaN    NaN  \n",
      "freq           150   NaN    NaN    NaN  \n",
      "mean           NaN   NaN    NaN    NaN  \n",
      "...            ...   ...    ...    ...  \n",
      "min            NaN   NaN    NaN    NaN  \n",
      "25%            NaN   NaN    NaN    NaN  \n",
      "50%            NaN   NaN    NaN    NaN  \n",
      "75%            NaN   NaN    NaN    NaN  \n",
      "max            NaN   NaN    NaN    NaN  \n",
      "\n",
      "[11 rows x 11 columns]\n"
     ]
    }
   ],
   "source": [
    "# Trouvez une commande pr présenter les statistiques descriptives de tt le df (min, max, moy,...) ?  \n",
    "# R : \n",
    "print(df_sante.describe(include=\"all\"))"
   ]
  },
  {
   "cell_type": "raw",
   "metadata": {},
   "source": [
    "Explication : \n",
    "Certains indicateurs statistiques ne sont valables que pour : \n",
    "# les variables numériques (ex. moyenne, min, etc. pour age, tauxmax,...),\n",
    "# et inversemment pour les non-numériques (ex. top, freq, etc. pour sexe, typedouleur, ...),\n",
    "# d'où les NaN dans certaines situations.\n",
    "Est-ce que ce résultat vs convient ?! \n",
    "# Pr plus de clarté, ns souhaitons afficher les stats pr les vars num dans un 1er tps (1è commande ?)\n",
    "# Et ds un 2sd tps les vars de type objects (2è commande ?)\n",
    "# Comment faire ? "
   ]
  },
  {
   "cell_type": "code",
   "execution_count": 33,
   "metadata": {},
   "outputs": [],
   "source": [
    "# Stats desc pr les vars num ? \n",
    "# R : "
   ]
  },
  {
   "cell_type": "code",
   "execution_count": null,
   "metadata": {},
   "outputs": [],
   "source": [
    "# Stats desc pr les vars non-num ? \n",
    "# R : "
   ]
  },
  {
   "cell_type": "markdown",
   "metadata": {},
   "source": [
    "## Manipulation des variables"
   ]
  },
  {
   "cell_type": "markdown",
   "metadata": {},
   "source": [
    "### Accès aux variables\n",
    "\n",
    "Il est possible d'accéder explicitement aux variables. Dans un premier temps, nous utilisons directement les noms des champs (les noms des variables, en en-tête de colonne)."
   ]
  },
  {
   "cell_type": "code",
   "execution_count": 28,
   "metadata": {},
   "outputs": [
    {
     "name": "stdout",
     "output_type": "stream",
     "text": [
      "0      masculin\n",
      "1       feminin\n",
      "2      masculin\n",
      "3      masculin\n",
      "4       feminin\n",
      "         ...   \n",
      "265    masculin\n",
      "266    masculin\n",
      "267     feminin\n",
      "268    masculin\n",
      "269    masculin\n",
      "Name: sexe, Length: 270, dtype: object\n"
     ]
    }
   ],
   "source": [
    "# Accès à une colonne de votre choix ? \n",
    "# R : \n",
    "print(df_sante['sexe'])"
   ]
  },
  {
   "cell_type": "code",
   "execution_count": 29,
   "metadata": {},
   "outputs": [
    {
     "name": "stdout",
     "output_type": "stream",
     "text": [
      "0      masculin\n",
      "1       feminin\n",
      "2      masculin\n",
      "3      masculin\n",
      "4       feminin\n",
      "         ...   \n",
      "265    masculin\n",
      "266    masculin\n",
      "267     feminin\n",
      "268    masculin\n",
      "269    masculin\n",
      "Name: sexe, Length: 270, dtype: object\n"
     ]
    }
   ],
   "source": [
    "# Autre manière d'accéder à une colonne avec le \".  ? \n",
    "# R : \n",
    "print(df_sante.sexe)"
   ]
  },
  {
   "cell_type": "code",
   "execution_count": 31,
   "metadata": {},
   "outputs": [
    {
     "name": "stdout",
     "output_type": "stream",
     "text": [
      "         sexe sucre\n",
      "0    masculin     A\n",
      "1     feminin     A\n",
      "2    masculin     A\n",
      "3    masculin     A\n",
      "4     feminin     A\n",
      "..        ...   ...\n",
      "265  masculin     B\n",
      "266  masculin     A\n",
      "267   feminin     A\n",
      "268  masculin     A\n",
      "269  masculin     A\n",
      "\n",
      "[270 rows x 2 columns]\n"
     ]
    }
   ],
   "source": [
    "# Accéder à un ensemble de colonnes ? \n",
    "# R : \n",
    "print(df_sante[['sexe', 'sucre']])"
   ]
  },
  {
   "cell_type": "code",
   "execution_count": 32,
   "metadata": {},
   "outputs": [
    {
     "name": "stdout",
     "output_type": "stream",
     "text": [
      "0    masculin\n",
      "1     feminin\n",
      "2    masculin\n",
      "3    masculin\n",
      "4     feminin\n",
      "Name: sexe, dtype: object\n"
     ]
    }
   ],
   "source": [
    "# Une colonne est un vecteur (Series en terminologie Pandas)\n",
    "# Affichage des premières valeurs\n",
    "# R : \n",
    "print(df_sante['sexe'].head())"
   ]
  },
  {
   "cell_type": "code",
   "execution_count": 33,
   "metadata": {},
   "outputs": [
    {
     "name": "stdout",
     "output_type": "stream",
     "text": [
      "265    masculin\n",
      "266    masculin\n",
      "267     feminin\n",
      "268    masculin\n",
      "269    masculin\n",
      "Name: sexe, dtype: object\n"
     ]
    }
   ],
   "source": [
    "# Affichage des dernières valeurs\n",
    "# R : \n",
    "print(df_sante['sexe'].tail())"
   ]
  },
  {
   "cell_type": "code",
   "execution_count": 35,
   "metadata": {},
   "outputs": [
    {
     "name": "stdout",
     "output_type": "stream",
     "text": [
      "count    270.000000\n",
      "mean      54.433333\n",
      "std        9.109067\n",
      "min       29.000000\n",
      "25%       48.000000\n",
      "50%       55.000000\n",
      "75%       61.000000\n",
      "max       77.000000\n",
      "Name: age, dtype: float64\n"
     ]
    }
   ],
   "source": [
    "# Statistique descriptive d'une col. Pour plus de détails, voir :\n",
    "# http://pandas.pydata.org/pandas-docs/stable/basics.html#summarizing-data-describe\n",
    "# R : \n",
    "print(df_sante.age.describe())"
   ]
  },
  {
   "cell_type": "code",
   "execution_count": 37,
   "metadata": {},
   "outputs": [
    {
     "name": "stdout",
     "output_type": "stream",
     "text": [
      "54.43333333333333\n"
     ]
    }
   ],
   "source": [
    "# Calculer explicitement la moyenne, par ex col \"age\"\n",
    "# R : \n",
    "print(df_sante.age.mean())"
   ]
  },
  {
   "cell_type": "code",
   "execution_count": 38,
   "metadata": {},
   "outputs": [
    {
     "name": "stdout",
     "output_type": "stream",
     "text": [
      "D    129\n",
      "C     79\n",
      "B     42\n",
      "A     20\n",
      "Name: typedouleur, dtype: int64\n"
     ]
    }
   ],
   "source": [
    "# Comptage des valeurs, par ex col \"typedouleur\"\n",
    "# R : \n",
    "print(df_sante.typedouleur.value_counts())"
   ]
  },
  {
   "cell_type": "code",
   "execution_count": 40,
   "metadata": {},
   "outputs": [
    {
     "name": "stdout",
     "output_type": "stream",
     "text": [
      "70\n"
     ]
    }
   ],
   "source": [
    "# Un type Series est un vecteur, il est possible d'utiliser des indices\n",
    "# Première valeur ? \n",
    "# R : \n",
    "print(df_sante.age[0])"
   ]
  },
  {
   "cell_type": "code",
   "execution_count": 43,
   "metadata": {},
   "outputs": [
    {
     "name": "stdout",
     "output_type": "stream",
     "text": [
      "0    70\n",
      "1    67\n",
      "2    57\n",
      "Name: age, dtype: int64\n"
     ]
    }
   ],
   "source": [
    "# 3 premières valeurs ? \n",
    "# R : \n",
    "print(df_sante.age[0:3])"
   ]
  },
  {
   "cell_type": "code",
   "execution_count": 44,
   "metadata": {},
   "outputs": [
    {
     "name": "stdout",
     "output_type": "stream",
     "text": [
      "214    29\n",
      "174    34\n",
      "138    34\n",
      "224    35\n",
      "81     35\n",
      "       ..\n",
      "15     71\n",
      "255    71\n",
      "4      74\n",
      "73     76\n",
      "199    77\n",
      "Name: age, Length: 270, dtype: int64\n"
     ]
    }
   ],
   "source": [
    "# Triez les valeurs d'une variable de manière croissante ? \n",
    "# R : \n",
    "print(df_sante.age.sort_values())"
   ]
  },
  {
   "cell_type": "code",
   "execution_count": 46,
   "metadata": {},
   "outputs": [
    {
     "data": {
      "text/html": [
       "<div>\n",
       "<style scoped>\n",
       "    .dataframe tbody tr th:only-of-type {\n",
       "        vertical-align: middle;\n",
       "    }\n",
       "\n",
       "    .dataframe tbody tr th {\n",
       "        vertical-align: top;\n",
       "    }\n",
       "\n",
       "    .dataframe thead th {\n",
       "        text-align: right;\n",
       "    }\n",
       "</style>\n",
       "<table border=\"1\" class=\"dataframe\">\n",
       "  <thead>\n",
       "    <tr style=\"text-align: right;\">\n",
       "      <th></th>\n",
       "      <th>age</th>\n",
       "      <th>sexe</th>\n",
       "      <th>typedouleur</th>\n",
       "      <th>sucre</th>\n",
       "      <th>tauxmax</th>\n",
       "      <th>...</th>\n",
       "      <th>depression</th>\n",
       "      <th>coeur col9</th>\n",
       "      <th>col10</th>\n",
       "      <th>col11</th>\n",
       "      <th>col13</th>\n",
       "    </tr>\n",
       "  </thead>\n",
       "  <tbody>\n",
       "    <tr>\n",
       "      <th>214</th>\n",
       "      <td>29</td>\n",
       "      <td>masculin</td>\n",
       "      <td>B</td>\n",
       "      <td>A</td>\n",
       "      <td>202</td>\n",
       "      <td>...</td>\n",
       "      <td>0</td>\n",
       "      <td>absence</td>\n",
       "      <td>NaN</td>\n",
       "      <td>NaN</td>\n",
       "      <td>NaN</td>\n",
       "    </tr>\n",
       "    <tr>\n",
       "      <th>174</th>\n",
       "      <td>34</td>\n",
       "      <td>masculin</td>\n",
       "      <td>A</td>\n",
       "      <td>A</td>\n",
       "      <td>174</td>\n",
       "      <td>...</td>\n",
       "      <td>0</td>\n",
       "      <td>absence</td>\n",
       "      <td>NaN</td>\n",
       "      <td>NaN</td>\n",
       "      <td>NaN</td>\n",
       "    </tr>\n",
       "    <tr>\n",
       "      <th>138</th>\n",
       "      <td>34</td>\n",
       "      <td>feminin</td>\n",
       "      <td>B</td>\n",
       "      <td>A</td>\n",
       "      <td>192</td>\n",
       "      <td>...</td>\n",
       "      <td>7</td>\n",
       "      <td>absence</td>\n",
       "      <td>NaN</td>\n",
       "      <td>NaN</td>\n",
       "      <td>NaN</td>\n",
       "    </tr>\n",
       "    <tr>\n",
       "      <th>224</th>\n",
       "      <td>35</td>\n",
       "      <td>feminin</td>\n",
       "      <td>D</td>\n",
       "      <td>A</td>\n",
       "      <td>182</td>\n",
       "      <td>...</td>\n",
       "      <td>14</td>\n",
       "      <td>absence</td>\n",
       "      <td>NaN</td>\n",
       "      <td>NaN</td>\n",
       "      <td>NaN</td>\n",
       "    </tr>\n",
       "    <tr>\n",
       "      <th>81</th>\n",
       "      <td>35</td>\n",
       "      <td>masculin</td>\n",
       "      <td>D</td>\n",
       "      <td>A</td>\n",
       "      <td>130</td>\n",
       "      <td>...</td>\n",
       "      <td>16</td>\n",
       "      <td>presence</td>\n",
       "      <td>NaN</td>\n",
       "      <td>NaN</td>\n",
       "      <td>NaN</td>\n",
       "    </tr>\n",
       "  </tbody>\n",
       "</table>\n",
       "<p>5 rows × 11 columns</p>\n",
       "</div>"
      ],
      "text/plain": [
       "     age      sexe typedouleur sucre  tauxmax  ... depression  coeur col9  \\\n",
       "214   29  masculin           B     A      202  ...          0     absence   \n",
       "174   34  masculin           A     A      174  ...          0     absence   \n",
       "138   34   feminin           B     A      192  ...          7     absence   \n",
       "224   35   feminin           D     A      182  ...         14     absence   \n",
       "81    35  masculin           D     A      130  ...         16    presence   \n",
       "\n",
       "    col10  col11  col13  \n",
       "214   NaN    NaN    NaN  \n",
       "174   NaN    NaN    NaN  \n",
       "138   NaN    NaN    NaN  \n",
       "224   NaN    NaN    NaN  \n",
       "81    NaN    NaN    NaN  \n",
       "\n",
       "[5 rows x 11 columns]"
      ]
     },
     "execution_count": 46,
     "metadata": {},
     "output_type": "execute_result"
    }
   ],
   "source": [
    "# le tri peut être généralisé aux DataFrame\n",
    "# par exemple : triez le df selon l'âge puis afficher les 1è lignes\n",
    "# R : \n",
    "df_sante.sort_values('age').head()"
   ]
  },
  {
   "cell_type": "markdown",
   "metadata": {},
   "source": [
    "## Accès indicé aux données d'un DataFrame\n",
    "On peut accéder aux valeurs du DataFrame via des indices ou plages d'indice. La structure se comporte alors comme une matrice. La cellule en haut et à gauche est de coordonnées (0,0).\n",
    "\n",
    "Il y a différentes manières de le faire, l'utilisation de .iloc[,] constitue une des solutions les plus simples. N'oublions pas que Shape permet d'obtenir les dimensions (lignes et colonnes) du DataFrame."
   ]
  },
  {
   "cell_type": "code",
   "execution_count": 48,
   "metadata": {},
   "outputs": [
    {
     "name": "stdout",
     "output_type": "stream",
     "text": [
      "70\n"
     ]
    }
   ],
   "source": [
    "# Accèdez à la valeur située en (0,0) ?\n",
    "# R : \n",
    "print(df_sante.iloc[0,0])"
   ]
  },
  {
   "cell_type": "code",
   "execution_count": 50,
   "metadata": {},
   "outputs": [
    {
     "name": "stdout",
     "output_type": "stream",
     "text": [
      "67\n"
     ]
    }
   ],
   "source": [
    "# Accédez à la valeur située en dernière ligne, première colonne ? \n",
    "# indice : utilisez l'indiçage négatif\n",
    "# R : \n",
    "print(df_sante.iloc[-1,0])"
   ]
  },
  {
   "cell_type": "code",
   "execution_count": 51,
   "metadata": {},
   "outputs": [
    {
     "name": "stdout",
     "output_type": "stream",
     "text": [
      "67\n"
     ]
    }
   ],
   "source": [
    "# Accédez la valeur située en dernière ligne, première colonne ? \n",
    "# indice : shape[0] renvoie le nombre de lignes (1è dimension) qu'il faut réduire de -1 parce que le 1è indice est égal à 0. \n",
    "# sinon on déborde\n",
    "# R : \n",
    "print(df_sante.iloc[df_sante.shape[0]-1,0])"
   ]
  },
  {
   "cell_type": "code",
   "execution_count": 52,
   "metadata": {},
   "outputs": [
    {
     "name": "stdout",
     "output_type": "stream",
     "text": [
      "   age      sexe typedouleur sucre  tauxmax  ... depression  coeur col9 col10  \\\n",
      "0   70  masculin           D     A      109  ...         24    presence   NaN   \n",
      "1   67   feminin           C     A      160  ...         16     absence   NaN   \n",
      "2   57  masculin           B     A      141  ...          3    presence   NaN   \n",
      "3   64  masculin           D     A      105  ...          2     absence   NaN   \n",
      "4   74   feminin           B     A      121  ...          2     absence   NaN   \n",
      "\n",
      "   col11  col13  \n",
      "0    NaN    NaN  \n",
      "1    NaN    NaN  \n",
      "2    NaN    NaN  \n",
      "3    NaN    NaN  \n",
      "4    NaN    NaN  \n",
      "\n",
      "[5 rows x 11 columns]\n"
     ]
    }
   ],
   "source": [
    "# Accédez aux 5 premières valeurs de toutes les colonnes ? \n",
    "# lignes => 0:5 (0 à 5 [non inclus])\n",
    "# colonnes = : (toutes les colonnes)\n",
    "print(df_sante.iloc[0:5,:])"
   ]
  },
  {
   "cell_type": "code",
   "execution_count": 53,
   "metadata": {},
   "outputs": [
    {
     "name": "stdout",
     "output_type": "stream",
     "text": [
      "     age      sexe typedouleur sucre  tauxmax  ... depression  coeur col9  \\\n",
      "265   52  masculin           C     B      162  ...          5     absence   \n",
      "266   44  masculin           B     A      173  ...          0     absence   \n",
      "267   56   feminin           B     A      153  ...         13     absence   \n",
      "268   57  masculin           D     A      148  ...          4     absence   \n",
      "269   67  masculin           D     A      108  ...         15    presence   \n",
      "\n",
      "    col10  col11  col13  \n",
      "265   NaN    NaN    NaN  \n",
      "266   NaN    NaN    NaN  \n",
      "267   NaN    NaN    NaN  \n",
      "268   NaN    NaN    NaN  \n",
      "269   NaN    NaN    NaN  \n",
      "\n",
      "[5 rows x 11 columns]\n"
     ]
    }
   ],
   "source": [
    "# Accéder aux 5 dernières lignes du df ? avec l'indiçage négatif, on le peut facilement \n",
    "print(df_sante.iloc[-5:,:])"
   ]
  },
  {
   "cell_type": "code",
   "execution_count": 54,
   "metadata": {},
   "outputs": [
    {
     "name": "stdout",
     "output_type": "stream",
     "text": [
      "   age      sexe\n",
      "0   70  masculin\n",
      "1   67   feminin\n",
      "2   57  masculin\n",
      "3   64  masculin\n",
      "4   74   feminin\n"
     ]
    }
   ],
   "source": [
    "# Accédez aux 5 premières lignes et deux premières colonnes ? \n",
    "print(df_sante.iloc[0:5,0:2])"
   ]
  },
  {
   "cell_type": "code",
   "execution_count": 56,
   "metadata": {},
   "outputs": [
    {
     "name": "stdout",
     "output_type": "stream",
     "text": [
      "   age typedouleur  tauxmax\n",
      "0   70           D      109\n",
      "1   67           C      160\n",
      "2   57           B      141\n",
      "3   64           D      105\n",
      "4   74           B      121\n"
     ]
    }
   ],
   "source": [
    "# Accédez aux 5 1è lignes et colonnes 0, 1 et 4 ? \n",
    "# indice : on a une liste d'indices en colonne\n",
    "print(df_sante.iloc[0:5,[0,2,4]])"
   ]
  },
  {
   "cell_type": "code",
   "execution_count": 57,
   "metadata": {},
   "outputs": [
    {
     "name": "stdout",
     "output_type": "stream",
     "text": [
      "   age typedouleur  tauxmax\n",
      "0   70           D      109\n",
      "1   67           C      160\n",
      "2   57           B      141\n",
      "3   64           D      105\n",
      "4   74           B      121\n"
     ]
    }
   ],
   "source": [
    "# faites la même chose autrement ?\n",
    "# indice : remarquez le rôle de 2 dans 0:5:2\n",
    "print(df_sante.iloc[0:5,0:5:2])"
   ]
  },
  {
   "cell_type": "markdown",
   "metadata": {
    "collapsed": true
   },
   "source": [
    "## Restrictions avec les conditions - Les requêtes\n",
    "\n",
    "Nous pouvons isoler les sous-ensembles d'observations répondant à des critères définis sur les champs. Nous utiliserons préférentiellement la méthode .loc[,] dans ce cadre."
   ]
  },
  {
   "cell_type": "code",
   "execution_count": 59,
   "metadata": {},
   "outputs": [
    {
     "name": "stdout",
     "output_type": "stream",
     "text": [
      "     age      sexe typedouleur sucre  tauxmax  ... depression  coeur col9  \\\n",
      "13    61  masculin           A     A      145  ...         26    presence   \n",
      "18    64  masculin           A     A      144  ...         18     absence   \n",
      "19    40  masculin           A     A      178  ...         14     absence   \n",
      "37    59  masculin           A     A      125  ...          0    presence   \n",
      "63    60   feminin           A     A      171  ...          9     absence   \n",
      "..   ...       ...         ...   ...      ...  ...        ...         ...   \n",
      "198   69   feminin           A     A      151  ...         18     absence   \n",
      "205   52  masculin           A     B      178  ...         12     absence   \n",
      "210   59  masculin           A     A      159  ...          2    presence   \n",
      "228   58   feminin           A     B      162  ...         10     absence   \n",
      "229   52  masculin           A     A      190  ...          0     absence   \n",
      "\n",
      "    col10  col11  col13  \n",
      "13    NaN    NaN    NaN  \n",
      "18    NaN    NaN    NaN  \n",
      "19    NaN    NaN    NaN  \n",
      "37    NaN    NaN    NaN  \n",
      "63    NaN    NaN    NaN  \n",
      "..    ...    ...    ...  \n",
      "198   NaN    NaN    NaN  \n",
      "205   NaN    NaN    NaN  \n",
      "210   NaN    NaN    NaN  \n",
      "228   NaN    NaN    NaN  \n",
      "229   NaN    NaN    NaN  \n",
      "\n",
      "[20 rows x 11 columns]\n"
     ]
    }
   ],
   "source": [
    "# Listez les individus présentant une douleur de type A\n",
    "print(df_sante.loc[df_sante['typedouleur']==\"A\",:])"
   ]
  },
  {
   "cell_type": "code",
   "execution_count": 60,
   "metadata": {},
   "outputs": [
    {
     "name": "stdout",
     "output_type": "stream",
     "text": [
      "0      False\n",
      "1      False\n",
      "2      False\n",
      "3      False\n",
      "4      False\n",
      "       ...  \n",
      "265    False\n",
      "266    False\n",
      "267    False\n",
      "268    False\n",
      "269    False\n",
      "Name: typedouleur, Length: 270, dtype: bool\n"
     ]
    }
   ],
   "source": [
    "# Nous constatons que l'on indexe avec un vecteur de booléens si on va dans le détail. En effet,\n",
    "print(df_sante['typedouleur'] == \"A\")"
   ]
  },
  {
   "cell_type": "markdown",
   "metadata": {},
   "source": [
    "Seules les observations correspondant à True sont repris par .loc[,]. Nous pouvons les comptabiliser :"
   ]
  },
  {
   "cell_type": "code",
   "execution_count": 61,
   "metadata": {},
   "outputs": [
    {
     "name": "stdout",
     "output_type": "stream",
     "text": [
      "False    250\n",
      "True      20\n",
      "Name: typedouleur, dtype: int64\n"
     ]
    }
   ],
   "source": [
    "# Comptez le nombre d'individus qui présente une douleur de type \"A\" ? \n",
    "print((df_sante['typedouleur']==\"A\").value_counts())"
   ]
  },
  {
   "cell_type": "code",
   "execution_count": 62,
   "metadata": {},
   "outputs": [
    {
     "name": "stdout",
     "output_type": "stream",
     "text": [
      "     age      sexe typedouleur sucre  tauxmax  ... depression  coeur col9  \\\n",
      "2     57  masculin           B     A      141  ...          3    presence   \n",
      "4     74   feminin           B     A      121  ...          2     absence   \n",
      "13    61  masculin           A     A      145  ...         26    presence   \n",
      "18    64  masculin           A     A      144  ...         18     absence   \n",
      "19    40  masculin           A     A      178  ...         14     absence   \n",
      "..   ...       ...         ...   ...      ...  ...        ...         ...   \n",
      "262   58  masculin           B     A      160  ...         18    presence   \n",
      "263   49  masculin           B     A      171  ...          6     absence   \n",
      "264   48  masculin           B     A      168  ...         10    presence   \n",
      "266   44  masculin           B     A      173  ...          0     absence   \n",
      "267   56   feminin           B     A      153  ...         13     absence   \n",
      "\n",
      "    col10  col11  col13  \n",
      "2     NaN    NaN    NaN  \n",
      "4     NaN    NaN    NaN  \n",
      "13    NaN    NaN    NaN  \n",
      "18    NaN    NaN    NaN  \n",
      "19    NaN    NaN    NaN  \n",
      "..    ...    ...    ...  \n",
      "262   NaN    NaN    NaN  \n",
      "263   NaN    NaN    NaN  \n",
      "264   NaN    NaN    NaN  \n",
      "266   NaN    NaN    NaN  \n",
      "267   NaN    NaN    NaN  \n",
      "\n",
      "[62 rows x 11 columns]\n"
     ]
    }
   ],
   "source": [
    "# pour un ensemble de valeurs de la même variable,\n",
    "# nous utilisons isin()\n",
    "print(df_sante.loc[df_sante['typedouleur'].isin(['A','B']),:])"
   ]
  },
  {
   "cell_type": "markdown",
   "metadata": {},
   "source": [
    "Des opérateurs logiques permettent de combiner les conditions. Nous utilisons respectivement : & pour ET, | pour OU, et ~ pour la négation."
   ]
  },
  {
   "cell_type": "code",
   "execution_count": 70,
   "metadata": {},
   "outputs": [
    {
     "name": "stdout",
     "output_type": "stream",
     "text": [
      "     age      sexe typedouleur sucre  tauxmax angine  depression     coeur\n",
      "18    64  masculin           A     A      144    oui          18   absence\n",
      "19    40  masculin           A     A      178    oui          14   absence\n",
      "143   51  masculin           A     A      125    oui          14   absence\n",
      "160   38  masculin           A     A      182    oui          38  presence\n"
     ]
    }
   ],
   "source": [
    "# Listez les individus présentant une douleur de type A et angine == oui ? \n",
    "print(df_sante.loc[(df_sante['typedouleur']==\"A\") & (df_sante['angine'] == \"oui\"),:])"
   ]
  },
  {
   "cell_type": "code",
   "execution_count": 69,
   "metadata": {},
   "outputs": [
    {
     "name": "stdout",
     "output_type": "stream",
     "text": [
      "     age      sexe typedouleur sucre  tauxmax angine  depression     coeur\n",
      "40    40  masculin           D     A      181    non           0  presence\n",
      "47    44  masculin           D     A      177    non           0  presence\n",
      "50    42  masculin           D     A      125    oui          18  presence\n",
      "81    35  masculin           D     A      130    oui          16  presence\n",
      "147   40  masculin           D     A      114    oui          20  presence\n",
      "..   ...       ...         ...   ...      ...    ...         ...       ...\n",
      "182   41  masculin           D     A      158    non           0  presence\n",
      "193   35  masculin           D     A      156    oui           0  presence\n",
      "231   39  masculin           D     A      140    non          12  presence\n",
      "237   43  masculin           D     A      120    oui          25  presence\n",
      "252   44  masculin           D     A      153    non           0  presence\n",
      "\n",
      "[11 rows x 8 columns]\n"
     ]
    }
   ],
   "source": [
    "# Liste les personnes de moins de 45 ans, de sexe masculin, présentant une maladie cardiaque ? \n",
    "print(df_sante.loc[(df_sante['age'] < 45) & (df_sante['sexe'] == \"masculin\") & (df_sante['coeur'] == \"presence\"),:])"
   ]
  },
  {
   "cell_type": "code",
   "execution_count": 71,
   "metadata": {},
   "outputs": [
    {
     "name": "stdout",
     "output_type": "stream",
     "text": [
      "     age      sexe     coeur  tauxmax\n",
      "40    40  masculin  presence      181\n",
      "47    44  masculin  presence      177\n",
      "50    42  masculin  presence      125\n",
      "81    35  masculin  presence      130\n",
      "147   40  masculin  presence      114\n",
      "..   ...       ...       ...      ...\n",
      "182   41  masculin  presence      158\n",
      "193   35  masculin  presence      156\n",
      "231   39  masculin  presence      140\n",
      "237   43  masculin  presence      120\n",
      "252   44  masculin  presence      153\n",
      "\n",
      "[11 rows x 4 columns]\n"
     ]
    }
   ],
   "source": [
    "# On peut n'afficher qu'une partie des colonnes\n",
    "# On définit la projection dans une liste\n",
    "colonnes = ['age','sexe','coeur','tauxmax']\n",
    "# que l'on utilise en paramètre dans .loc[]\n",
    "# pour la même restruction que précédemment\n",
    "print(df_sante.loc[(df_sante['age'] < 45) & (df_sante['sexe'] == \"masculin\") & (df_sante['coeur'] == \"presence\"),colonnes])"
   ]
  },
  {
   "cell_type": "markdown",
   "metadata": {},
   "source": [
    "## Calculs récapitulatifs - Croisement des variables\n",
    "\n",
    "A la manière des tableaux croisés dynamiques (TCD) d'Excel, nous pouvons procéder à des croisements et opérer des calculs récapitulatifs, qui vont du comptage simple aux calculs statistiques mettent en jeu d'autres variables."
   ]
  },
  {
   "cell_type": "code",
   "execution_count": 72,
   "metadata": {},
   "outputs": [
    {
     "name": "stdout",
     "output_type": "stream",
     "text": [
      "coeur     absence  presence\n",
      "sexe                       \n",
      "feminin        67        20\n",
      "masculin       83       100\n"
     ]
    }
   ],
   "source": [
    "# Fréquences selon sexe et coeur (tri croisé) ? \n",
    "# voir : http://pandas.pydata.org/pandas-docs/stable/generated/pandas.crosstab.html\n",
    "print(pd.crosstab(df_sante['sexe'],df_sante['coeur']))"
   ]
  },
  {
   "cell_type": "code",
   "execution_count": 73,
   "metadata": {},
   "outputs": [
    {
     "name": "stdout",
     "output_type": "stream",
     "text": [
      "coeur      absence  presence\n",
      "sexe                        \n",
      "feminin   0.770115  0.229885\n",
      "masculin  0.453552  0.546448\n"
     ]
    }
   ],
   "source": [
    "# Le même tri croisé mais avec un pourcentage en ligne ?\n",
    "# indice : ns pouvons demander un post-traitement après la commande précedente !  \n",
    "print(pd.crosstab(df_sante['sexe'],df_sante['coeur'],normalize='index'))"
   ]
  },
  {
   "cell_type": "code",
   "execution_count": 74,
   "metadata": {},
   "outputs": [
    {
     "name": "stdout",
     "output_type": "stream",
     "text": [
      "coeur       absence  presence\n",
      "sexe                         \n",
      "feminin   54.582090     59.35\n",
      "masculin  51.192771     56.04\n"
     ]
    }
   ],
   "source": [
    "# Calculez la moyenne d'âge selon le sexe et la maladie ? \n",
    "# indice : ns utilisons la fonction mean() de la classe Series de la librairie Pandas\n",
    "print(pd.crosstab(df_sante['sexe'],df_sante['coeur'],values=df_sante['age'],aggfunc=pd.Series.mean))"
   ]
  },
  {
   "cell_type": "code",
   "execution_count": 75,
   "metadata": {},
   "outputs": [
    {
     "name": "stdout",
     "output_type": "stream",
     "text": [
      "                age         \n",
      "coeur       absence presence\n",
      "sexe                        \n",
      "feminin   54.582090    59.35\n",
      "masculin  51.192771    56.04\n"
     ]
    }
   ],
   "source": [
    "# une autre manière de faire avec la commande pivot_table() pour exactement le même résultat\n",
    "print(df_sante.pivot_table(index=['sexe'],columns=['coeur'],values=['age'],aggfunc=pd.Series.mean))"
   ]
  },
  {
   "cell_type": "markdown",
   "metadata": {},
   "source": [
    "L'utilisation de groupby() permet d'accéder aux sous-DataFrame associés à chaque item de la variable de regroupement. Il est dès lors possible d'appliquer explicitement d'autres traitements sur ces sous-ensembles de données."
   ]
  },
  {
   "cell_type": "code",
   "execution_count": 76,
   "metadata": {},
   "outputs": [
    {
     "name": "stdout",
     "output_type": "stream",
     "text": [
      "(183, 8)\n"
     ]
    }
   ],
   "source": [
    "# Scission des données selon le sexe\n",
    "g = df_sante.groupby('sexe')\n",
    "\n",
    "# Calculer la dimension du sous-DataFrame associé aux hommes\n",
    "print(g.get_group('masculin').shape)"
   ]
  },
  {
   "cell_type": "code",
   "execution_count": 77,
   "metadata": {},
   "outputs": [
    {
     "name": "stdout",
     "output_type": "stream",
     "text": [
      "53.84153005464481\n"
     ]
    }
   ],
   "source": [
    "# Calculez la moyenne de l'âge chez les hommes.\n",
    "print(g.get_group('masculin')['age'].mean())"
   ]
  },
  {
   "cell_type": "code",
   "execution_count": 78,
   "metadata": {},
   "outputs": [
    {
     "name": "stdout",
     "output_type": "stream",
     "text": [
      "                age           depression           \n",
      "               mean       std       mean        std\n",
      "sexe                                               \n",
      "feminin   55.678161  9.626144   8.885057  11.332630\n",
      "masculin  53.841530  8.818189  11.267760  11.459408\n"
     ]
    }
   ],
   "source": [
    "# On peut appliquer différentes fonctions\n",
    "# agg() permet de revenir sur quelque chose qui ressemble au crosstab()\n",
    "print(g[['age','depression']].agg([pd.Series.mean, pd.Series.std]))"
   ]
  },
  {
   "cell_type": "code",
   "execution_count": 79,
   "metadata": {},
   "outputs": [
    {
     "name": "stdout",
     "output_type": "stream",
     "text": [
      "feminin\n",
      "55.67816091954023\n",
      "masculin\n",
      "53.84153005464481\n"
     ]
    }
   ],
   "source": [
    "# Nous pouvons itérer sur les groupes\n",
    "for groupe in g:\n",
    "    # groupe est un tuple\n",
    "    print(groupe[0]) #étiquette du groupe\n",
    "    # accès à la variable 'age' du groupe concerné\n",
    "    print(pd.Series.mean(groupe[1]['age']))"
   ]
  },
  {
   "cell_type": "markdown",
   "metadata": {},
   "source": [
    "## Construction de variables calculées\n",
    "\n",
    "Les calculs sont vectorisés pour les vecteurs de type Series de Pandas. Ce qui évite de passer par des boucles fastidieuses pour manipuler les valeurs des vecteurs."
   ]
  },
  {
   "cell_type": "code",
   "execution_count": 81,
   "metadata": {},
   "outputs": [
    {
     "name": "stdout",
     "output_type": "stream",
     "text": [
      "0      463.085981\n",
      "1      672.750819\n",
      "2      570.070229\n",
      "3      436.682724\n",
      "4      520.791876\n",
      "          ...    \n",
      "265    640.101482\n",
      "266    654.664807\n",
      "267    615.878809\n",
      "268    598.371588\n",
      "269    454.106803\n",
      "Length: 270, dtype: float64\n"
     ]
    }
   ],
   "source": [
    "# Création d'une variable tauxnet (qui n'a aucune signification médicale)\n",
    "# Utilisation de la libraire numpy (log = logarithme népérien)\n",
    "import numpy\n",
    "tauxnet = df_sante['tauxmax']*numpy.log(df_sante_sante['age'])\n",
    "print(tauxnet)"
   ]
  },
  {
   "cell_type": "code",
   "execution_count": 84,
   "metadata": {},
   "outputs": [
    {
     "name": "stdout",
     "output_type": "stream",
     "text": [
      "(270, 9)\n"
     ]
    }
   ],
   "source": [
    "# Ns cherchons à la concaténer au DataFrame\n",
    "newdf_sante = pd.concat([df_sante,tauxnet],axis=1)\n",
    "print(newdf_sante.shape)"
   ]
  },
  {
   "cell_type": "markdown",
   "metadata": {},
   "source": [
    "La construction d'une variable ex-nihilo est également possible. Par ex., nous souhaitons créer une indicatrice pour la variable sexe, 1 pour masculin, 0 pour féminin."
   ]
  },
  {
   "cell_type": "code",
   "execution_count": 85,
   "metadata": {},
   "outputs": [
    {
     "name": "stdout",
     "output_type": "stream",
     "text": [
      "(270,)\n"
     ]
    }
   ],
   "source": [
    "# Création d'une Série de 0 de la même longueur\n",
    "# que notre DataFrame(nombre de lignes)\n",
    "# nous utilisons la méthode de numpy pour cela\n",
    "code = pd.Series(numpy.zeros(df_sante.shape[0]))\n",
    "print(code.shape)"
   ]
  },
  {
   "cell_type": "code",
   "execution_count": 86,
   "metadata": {},
   "outputs": [
    {
     "name": "stdout",
     "output_type": "stream",
     "text": [
      "1.0    183\n",
      "0.0     87\n",
      "dtype: int64\n"
     ]
    }
   ],
   "source": [
    "#les \"sexe = masculin\" sont codés 1\n",
    "#de fait, \"sexe = feminin\" est codé zéro puisque le \n",
    "#vecteur a préalablement été créé avec des valeurs 0\n",
    "code[df_sante['sexe']=='masculin'] = 1\n",
    "print(code.value_counts())"
   ]
  },
  {
   "cell_type": "code",
   "execution_count": 87,
   "metadata": {},
   "outputs": [
    {
     "name": "stdout",
     "output_type": "stream",
     "text": [
      "1    183\n",
      "0     87\n",
      "Name: sexe, dtype: int64\n"
     ]
    }
   ],
   "source": [
    "#une autre solution plus simple, mais il faut connaître eq()\n",
    "codebis = df_sante['sexe'].eq('masculin').astype('int')\n",
    "print(codebis.value_counts())"
   ]
  },
  {
   "cell_type": "markdown",
   "metadata": {},
   "source": [
    "## Graphiques\n",
    "\n",
    "Passer par matplotlib permet de réaliser des graphiques performants (http://matplotlib.org/). Mais il faut connaître les procédures de la librairie, ce qui nécessite un apprentissage supplémentaire qui n'est pas toujours évident.\n",
    "\n",
    "Heureusement, Pandas propose des commandes simples qui encapsulent l'appel à ces procédures et nous simplifie grandement la vie. Il faut importer matplotlib pour que l'ensemble fonctionne correctement."
   ]
  },
  {
   "cell_type": "code",
   "execution_count": 88,
   "metadata": {},
   "outputs": [],
   "source": [
    "#indiquer que l'on veut voir apparaître les graphiques dans le notebook\n",
    "#/!\\ très important, sinon on ne verrait rien \n",
    "%matplotlib inline\n",
    "\n",
    "#importation de la librairie\n",
    "import matplotlib.pyplot as plt"
   ]
  },
  {
   "cell_type": "code",
   "execution_count": 90,
   "metadata": {},
   "outputs": [
    {
     "data": {
      "text/plain": [
       "array([[<matplotlib.axes._subplots.AxesSubplot object at 0x7f0a5b949c40>]],\n",
       "      dtype=object)"
      ]
     },
     "execution_count": 90,
     "metadata": {},
     "output_type": "execute_result"
    },
    {
     "data": {
      "image/png": "[encoded data removed]",
      "text/plain": [
       "<Figure size 432x288 with 1 Axes>"
      ]
     },
     "metadata": {
      "needs_background": "light"
     },
     "output_type": "display_data"
    }
   ],
   "source": [
    "# Tracer 1histogramme de l'âge ? \n",
    "df_sante.hist(column='age')"
   ]
  },
  {
   "cell_type": "code",
   "execution_count": 91,
   "metadata": {},
   "outputs": [
    {
     "data": {
      "text/plain": [
       "<matplotlib.axes._subplots.AxesSubplot at 0x7f0a5b111a00>"
      ]
     },
     "execution_count": 91,
     "metadata": {},
     "output_type": "execute_result"
    },
    {
     "data": {
      "image/png": "[encoded data removed]",
      "text/plain": [
       "<Figure size 432x288 with 1 Axes>"
      ]
     },
     "metadata": {
      "needs_background": "light"
     },
     "output_type": "display_data"
    }
   ],
   "source": [
    "# Tracer 1density plot ? \n",
    "df_sante['age'].plot.kde()"
   ]
  },
  {
   "cell_type": "code",
   "execution_count": 93,
   "metadata": {},
   "outputs": [
    {
     "data": {
      "text/plain": [
       "array([<matplotlib.axes._subplots.AxesSubplot object at 0x7f0a59061790>,\n",
       "       <matplotlib.axes._subplots.AxesSubplot object at 0x7f0a58fa4d00>],\n",
       "      dtype=object)"
      ]
     },
     "execution_count": 93,
     "metadata": {},
     "output_type": "execute_result"
    },
    {
     "data": {
      "image/png": "[encoded data removed]",
      "text/plain": [
       "<Figure size 432x288 with 2 Axes>"
      ]
     },
     "metadata": {
      "needs_background": "light"
     },
     "output_type": "display_data"
    }
   ],
   "source": [
    "# Tracer l'histogramme de l'âge selon le sexe ? \n",
    "df_sante.hist(column='age',by='sexe')"
   ]
  },
  {
   "cell_type": "code",
   "execution_count": 95,
   "metadata": {},
   "outputs": [
    {
     "data": {
      "text/plain": [
       "<matplotlib.axes._subplots.AxesSubplot at 0x7f0a59021610>"
      ]
     },
     "execution_count": 95,
     "metadata": {},
     "output_type": "execute_result"
    },
    {
     "data": {
      "image/png": "[encoded data removed]",
      "text/plain": [
       "<Figure size 432x288 with 1 Axes>"
      ]
     },
     "metadata": {
      "needs_background": "light"
     },
     "output_type": "display_data"
    }
   ],
   "source": [
    "# Comparaison des distributions avec un boxplot ? \n",
    "df_sante.boxplot(column='age',by='sexe')"
   ]
  },
  {
   "cell_type": "code",
   "execution_count": 97,
   "metadata": {},
   "outputs": [
    {
     "data": {
      "text/plain": [
       "<matplotlib.axes._subplots.AxesSubplot at 0x7f0a58f02e50>"
      ]
     },
     "execution_count": 97,
     "metadata": {},
     "output_type": "execute_result"
    },
    {
     "data": {
      "image/png": "[encoded data removed]",
      "text/plain": [
       "<Figure size 432x288 with 1 Axes>"
      ]
     },
     "metadata": {
      "needs_background": "light"
     },
     "output_type": "display_data"
    }
   ],
   "source": [
    "# Tracer 1scatterplot : age vs. tauxmax ? \n",
    "df_sante.plot.scatter(x='age',y='tauxmax')"
   ]
  },
  {
   "cell_type": "code",
   "execution_count": 99,
   "metadata": {},
   "outputs": [
    {
     "data": {
      "text/plain": [
       "<matplotlib.axes._subplots.AxesSubplot at 0x7f0a58e70dc0>"
      ]
     },
     "execution_count": 99,
     "metadata": {},
     "output_type": "execute_result"
    },
    {
     "data": {
      "image/png": "[encoded data removed]",
      "text/plain": [
       "<Figure size 432x288 with 2 Axes>"
      ]
     },
     "metadata": {
      "needs_background": "light"
     },
     "output_type": "display_data"
    }
   ],
   "source": [
    "# Tracer 1scatterplot (age vs. tauxmax) en distinguant les points ? \n",
    "# (niveau de gris) selon les valeurs de dépression\n",
    "df_sante.plot.scatter(x='age',y='tauxmax',c='depression')"
   ]
  },
  {
   "cell_type": "code",
   "execution_count": 101,
   "metadata": {},
   "outputs": [
    {
     "data": {
      "text/plain": [
       "<matplotlib.axes._subplots.AxesSubplot at 0x7f0a58fb02e0>"
      ]
     },
     "execution_count": 101,
     "metadata": {},
     "output_type": "execute_result"
    },
    {
     "data": {
      "image/png": "[encoded data removed]",
      "text/plain": [
       "<Figure size 432x288 with 1 Axes>"
      ]
     },
     "metadata": {
      "needs_background": "light"
     },
     "output_type": "display_data"
    }
   ],
   "source": [
    "# Tracer 1 scatterplot (age vs. tauxmax) en distinguant les points selon les valeurs de coeur ? \n",
    "# indice : nécessite un recodage de coeur - ici en 0/1\n",
    "# afficher le graphique en spécifiant la couleur (blue = 0, green = 1)\n",
    "c = []\n",
    "for i in df_sante.coeur:\n",
    "    if i == \"presence\":\n",
    "        c.append(\"green\")\n",
    "    else:\n",
    "        c.append(\"blue\")\n",
    "df_sante.plot.scatter(x='age',y='tauxmax',c=c)"
   ]
  },
  {
   "cell_type": "code",
   "execution_count": 103,
   "metadata": {},
   "outputs": [
    {
     "data": {
      "text/plain": [
       "<matplotlib.axes._subplots.AxesSubplot at 0x7f0a58e380d0>"
      ]
     },
     "execution_count": 103,
     "metadata": {},
     "output_type": "execute_result"
    },
    {
     "data": {
      "image/png": "[encoded data removed]",
      "text/plain": [
       "<Figure size 432x288 with 1 Axes>"
      ]
     },
     "metadata": {},
     "output_type": "display_data"
    }
   ],
   "source": [
    "# Tracer 1diagramme à secteurs - comptage de sexe ? \n",
    "df_sante['sexe'].value_counts().plot.pie()"
   ]
  },
  {
   "cell_type": "code",
   "execution_count": 105,
   "metadata": {},
   "outputs": [
    {
     "data": {
      "text/plain": [
       "array([[<matplotlib.axes._subplots.AxesSubplot object at 0x7f0a58d08dc0>,\n",
       "        <matplotlib.axes._subplots.AxesSubplot object at 0x7f0a58cfdc70>,\n",
       "        <matplotlib.axes._subplots.AxesSubplot object at 0x7f0a58ccda30>],\n",
       "       [<matplotlib.axes._subplots.AxesSubplot object at 0x7f0a58c43c10>,\n",
       "        <matplotlib.axes._subplots.AxesSubplot object at 0x7f0a58cd0ac0>,\n",
       "        <matplotlib.axes._subplots.AxesSubplot object at 0x7f0a58d0f6d0>],\n",
       "       [<matplotlib.axes._subplots.AxesSubplot object at 0x7f0a58d146d0>,\n",
       "        <matplotlib.axes._subplots.AxesSubplot object at 0x7f0a58bc0310>,\n",
       "        <matplotlib.axes._subplots.AxesSubplot object at 0x7f0a58b97b20>]],\n",
       "      dtype=object)"
      ]
     },
     "execution_count": 105,
     "metadata": {},
     "output_type": "execute_result"
    },
    {
     "data": {
      "image/png": "[encoded data removed]",
      "text/plain": [
       "<Figure size 432x288 with 9 Axes>"
      ]
     },
     "metadata": {
      "needs_background": "light"
     },
     "output_type": "display_data"
    }
   ],
   "source": [
    "# TRacez le scatterplot des variables pris deux à deux\n",
    "# Cela n'a d'intérêt que pour les variables quantitatives bien évidemment\n",
    "pd.plotting.scatter_matrix(df_sante.select_dtypes(exclude=['object']))"
   ]
  }
 ],
 "metadata": {
  "kernelspec": {
   "display_name": "Python 3",
   "language": "python",
   "name": "python3"
  },
  "language_info": {
   "codemirror_mode": {
    "name": "ipython",
    "version": 3
   },
   "file_extension": ".py",
   "mimetype": "text/x-python",
   "name": "python",
   "nbconvert_exporter": "python",
   "pygments_lexer": "ipython3",
   "version": "3.8.3"
  }
 },
 "nbformat": 4,
 "nbformat_minor": 2
}
